[Air_Quality_index.ipynb](https://github.com/user-attachments/files/23253563/Air_Quality_index.ipynb)
