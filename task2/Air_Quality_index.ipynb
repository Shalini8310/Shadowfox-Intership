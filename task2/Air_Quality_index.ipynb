[Air_Quality_index (1).ipynb](https://github.com/user-attachments/files/23254933/Air_Quality_index.1.ipynb)
